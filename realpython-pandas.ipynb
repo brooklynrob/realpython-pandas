{
 "cells": [
  {
   "cell_type": "code",
   "execution_count": 1,
   "metadata": {},
   "outputs": [
    {
     "name": "stdout",
     "output_type": "stream",
     "text": [
      "Download ready.\n"
     ]
    }
   ],
   "source": [
    "import requests\n",
    "\n",
    "download_url = \"https://raw.githubusercontent.com/fivethirtyeight/data/master/nba-elo/nbaallelo.csv\"\n",
    "target_csv_path = \"nba_all_elo.csv\"\n",
    "\n",
    "response = requests.get(download_url)\n",
    "response.raise_for_status()    # Check that the request was successful\n",
    "with open(target_csv_path, \"wb\") as f:\n",
    "    f.write(response.content)\n",
    "print(\"Download ready.\")"
   ]
  },
  {
   "cell_type": "code",
   "execution_count": 2,
   "metadata": {},
   "outputs": [
    {
     "data": {
      "text/plain": [
       "pandas.core.frame.DataFrame"
      ]
     },
     "execution_count": 2,
     "metadata": {},
     "output_type": "execute_result"
    }
   ],
   "source": [
    "import pandas as pd\n",
    "nba = pd.read_csv(\"nba_all_elo.csv\")\n",
    "type(nba)"
   ]
  },
  {
   "cell_type": "code",
   "execution_count": 7,
   "metadata": {},
   "outputs": [
    {
     "name": "stdout",
     "output_type": "stream",
     "text": [
      "Download ready.\n"
     ]
    }
   ],
   "source": [
    "import requests\n",
    "## https://github.com/kshaffer/election2016/blob/master/2016ElectionResultsWithElectoralCollege.csv\n",
    "download_url = \"https://raw.githubusercontent.com/kshaffer/election2016/master/2016ElectionResultsWithElectoralCollege.csv\"\n",
    "target_csv_path = \"2016ElectionResultsWithElectoralCollege.csv\"\n",
    "\n",
    "response = requests.get(download_url)\n",
    "response.raise_for_status()\n",
    "with open(target_csv_path, \"wb\") as f:\n",
    "    f.write(response.content)\n",
    "print(\"Download ready.\")"
   ]
  },
  {
   "cell_type": "code",
   "execution_count": 1,
   "metadata": {},
   "outputs": [
    {
     "data": {
      "text/plain": [
       "pandas.core.frame.DataFrame"
      ]
     },
     "execution_count": 1,
     "metadata": {},
     "output_type": "execute_result"
    }
   ],
   "source": [
    "import pandas as pd\n",
    "election2016 = pd.read_csv(\"2016ElectionResultsWithElectoralCollege.csv\")\n",
    "type(election2016)"
   ]
  },
  {
   "cell_type": "code",
   "execution_count": 2,
   "metadata": {},
   "outputs": [
    {
     "data": {
      "text/plain": [
       "51"
      ]
     },
     "execution_count": 2,
     "metadata": {},
     "output_type": "execute_result"
    }
   ],
   "source": [
    "len(election2016)"
   ]
  },
  {
   "cell_type": "code",
   "execution_count": 3,
   "metadata": {},
   "outputs": [
    {
     "data": {
      "text/plain": [
       "(51, 14)"
      ]
     },
     "execution_count": 3,
     "metadata": {},
     "output_type": "execute_result"
    }
   ],
   "source": [
    "election2016.shape"
   ]
  },
  {
   "cell_type": "code",
   "execution_count": 5,
   "metadata": {},
   "outputs": [
    {
     "data": {
      "text/html": [
       "<div>\n",
       "<style scoped>\n",
       "    .dataframe tbody tr th:only-of-type {\n",
       "        vertical-align: middle;\n",
       "    }\n",
       "\n",
       "    .dataframe tbody tr th {\n",
       "        vertical-align: top;\n",
       "    }\n",
       "\n",
       "    .dataframe thead th {\n",
       "        text-align: right;\n",
       "    }\n",
       "</style>\n",
       "<table border=\"1\" class=\"dataframe\">\n",
       "  <thead>\n",
       "    <tr style=\"text-align: right;\">\n",
       "      <th></th>\n",
       "      <th>Unnamed: 0</th>\n",
       "      <th>state</th>\n",
       "      <th>postal</th>\n",
       "      <th>clintonVotes</th>\n",
       "      <th>clintonElectors</th>\n",
       "      <th>trumpVotes</th>\n",
       "      <th>trumpElectors</th>\n",
       "      <th>johnsonVotes</th>\n",
       "      <th>steinVotes</th>\n",
       "      <th>mcmullinVotes</th>\n",
       "      <th>othersVotes</th>\n",
       "      <th>totalVotes</th>\n",
       "      <th>population2010</th>\n",
       "      <th>electors2016</th>\n",
       "    </tr>\n",
       "  </thead>\n",
       "  <tbody>\n",
       "    <tr>\n",
       "      <th>0</th>\n",
       "      <td>1</td>\n",
       "      <td>Alabama</td>\n",
       "      <td>AL</td>\n",
       "      <td>729547</td>\n",
       "      <td>0</td>\n",
       "      <td>1318255</td>\n",
       "      <td>9</td>\n",
       "      <td>44467</td>\n",
       "      <td>9391</td>\n",
       "      <td>0</td>\n",
       "      <td>21712</td>\n",
       "      <td>2123372</td>\n",
       "      <td>4780127</td>\n",
       "      <td>9</td>\n",
       "    </tr>\n",
       "    <tr>\n",
       "      <th>1</th>\n",
       "      <td>2</td>\n",
       "      <td>Alaska</td>\n",
       "      <td>AK</td>\n",
       "      <td>116454</td>\n",
       "      <td>0</td>\n",
       "      <td>163387</td>\n",
       "      <td>3</td>\n",
       "      <td>18725</td>\n",
       "      <td>5735</td>\n",
       "      <td>0</td>\n",
       "      <td>14307</td>\n",
       "      <td>318608</td>\n",
       "      <td>710249</td>\n",
       "      <td>3</td>\n",
       "    </tr>\n",
       "    <tr>\n",
       "      <th>2</th>\n",
       "      <td>3</td>\n",
       "      <td>Arizona</td>\n",
       "      <td>AZ</td>\n",
       "      <td>1161167</td>\n",
       "      <td>0</td>\n",
       "      <td>1252401</td>\n",
       "      <td>11</td>\n",
       "      <td>106327</td>\n",
       "      <td>34345</td>\n",
       "      <td>0</td>\n",
       "      <td>0</td>\n",
       "      <td>2554240</td>\n",
       "      <td>6392307</td>\n",
       "      <td>11</td>\n",
       "    </tr>\n",
       "    <tr>\n",
       "      <th>3</th>\n",
       "      <td>4</td>\n",
       "      <td>Arkansas</td>\n",
       "      <td>AR</td>\n",
       "      <td>380494</td>\n",
       "      <td>0</td>\n",
       "      <td>684782</td>\n",
       "      <td>6</td>\n",
       "      <td>29829</td>\n",
       "      <td>9473</td>\n",
       "      <td>13255</td>\n",
       "      <td>12712</td>\n",
       "      <td>1130635</td>\n",
       "      <td>2915958</td>\n",
       "      <td>6</td>\n",
       "    </tr>\n",
       "    <tr>\n",
       "      <th>4</th>\n",
       "      <td>5</td>\n",
       "      <td>California</td>\n",
       "      <td>CA</td>\n",
       "      <td>8696374</td>\n",
       "      <td>55</td>\n",
       "      <td>4452094</td>\n",
       "      <td>0</td>\n",
       "      <td>474615</td>\n",
       "      <td>275823</td>\n",
       "      <td>0</td>\n",
       "      <td>65507</td>\n",
       "      <td>13964413</td>\n",
       "      <td>37254503</td>\n",
       "      <td>55</td>\n",
       "    </tr>\n",
       "  </tbody>\n",
       "</table>\n",
       "</div>"
      ],
      "text/plain": [
       "   Unnamed: 0       state postal  clintonVotes  clintonElectors  trumpVotes  \\\n",
       "0           1     Alabama     AL        729547                0     1318255   \n",
       "1           2      Alaska     AK        116454                0      163387   \n",
       "2           3     Arizona     AZ       1161167                0     1252401   \n",
       "3           4    Arkansas     AR        380494                0      684782   \n",
       "4           5  California     CA       8696374               55     4452094   \n",
       "\n",
       "   trumpElectors  johnsonVotes  steinVotes  mcmullinVotes  othersVotes  \\\n",
       "0              9         44467        9391              0        21712   \n",
       "1              3         18725        5735              0        14307   \n",
       "2             11        106327       34345              0            0   \n",
       "3              6         29829        9473          13255        12712   \n",
       "4              0        474615      275823              0        65507   \n",
       "\n",
       "   totalVotes  population2010  electors2016  \n",
       "0     2123372         4780127             9  \n",
       "1      318608          710249             3  \n",
       "2     2554240         6392307            11  \n",
       "3     1130635         2915958             6  \n",
       "4    13964413        37254503            55  "
      ]
     },
     "execution_count": 5,
     "metadata": {},
     "output_type": "execute_result"
    }
   ],
   "source": [
    "election2016.head()"
   ]
  },
  {
   "cell_type": "code",
   "execution_count": 6,
   "metadata": {},
   "outputs": [],
   "source": [
    "pd.set_option(\"display.max.columns\", 7)"
   ]
  },
  {
   "cell_type": "code",
   "execution_count": 7,
   "metadata": {},
   "outputs": [
    {
     "data": {
      "text/html": [
       "<div>\n",
       "<style scoped>\n",
       "    .dataframe tbody tr th:only-of-type {\n",
       "        vertical-align: middle;\n",
       "    }\n",
       "\n",
       "    .dataframe tbody tr th {\n",
       "        vertical-align: top;\n",
       "    }\n",
       "\n",
       "    .dataframe thead th {\n",
       "        text-align: right;\n",
       "    }\n",
       "</style>\n",
       "<table border=\"1\" class=\"dataframe\">\n",
       "  <thead>\n",
       "    <tr style=\"text-align: right;\">\n",
       "      <th></th>\n",
       "      <th>Unnamed: 0</th>\n",
       "      <th>...</th>\n",
       "      <th>electors2016</th>\n",
       "    </tr>\n",
       "  </thead>\n",
       "  <tbody>\n",
       "    <tr>\n",
       "      <th>0</th>\n",
       "      <td>1</td>\n",
       "      <td>...</td>\n",
       "      <td>9</td>\n",
       "    </tr>\n",
       "    <tr>\n",
       "      <th>1</th>\n",
       "      <td>2</td>\n",
       "      <td>...</td>\n",
       "      <td>3</td>\n",
       "    </tr>\n",
       "    <tr>\n",
       "      <th>2</th>\n",
       "      <td>3</td>\n",
       "      <td>...</td>\n",
       "      <td>11</td>\n",
       "    </tr>\n",
       "    <tr>\n",
       "      <th>3</th>\n",
       "      <td>4</td>\n",
       "      <td>...</td>\n",
       "      <td>6</td>\n",
       "    </tr>\n",
       "    <tr>\n",
       "      <th>4</th>\n",
       "      <td>5</td>\n",
       "      <td>...</td>\n",
       "      <td>55</td>\n",
       "    </tr>\n",
       "  </tbody>\n",
       "</table>\n",
       "<p>5 rows × 14 columns</p>\n",
       "</div>"
      ],
      "text/plain": [
       "   Unnamed: 0  ... electors2016\n",
       "0           1  ...            9\n",
       "1           2  ...            3\n",
       "2           3  ...           11\n",
       "3           4  ...            6\n",
       "4           5  ...           55\n",
       "\n",
       "[5 rows x 14 columns]"
      ]
     },
     "execution_count": 7,
     "metadata": {},
     "output_type": "execute_result"
    }
   ],
   "source": [
    "election2016.head()"
   ]
  },
  {
   "cell_type": "code",
   "execution_count": null,
   "metadata": {},
   "outputs": [],
   "source": []
  }
 ],
 "metadata": {
  "kernelspec": {
   "display_name": "Python 3",
   "language": "python",
   "name": "python3"
  },
  "language_info": {
   "codemirror_mode": {
    "name": "ipython",
    "version": 3
   },
   "file_extension": ".py",
   "mimetype": "text/x-python",
   "name": "python",
   "nbconvert_exporter": "python",
   "pygments_lexer": "ipython3",
   "version": "3.7.6"
  }
 },
 "nbformat": 4,
 "nbformat_minor": 4
}
